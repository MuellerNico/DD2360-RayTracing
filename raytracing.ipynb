{
  "nbformat": 4,
  "nbformat_minor": 0,
  "metadata": {
    "colab": {
      "provenance": [],
      "gpuType": "T4"
    },
    "kernelspec": {
      "name": "python3",
      "display_name": "Python 3"
    },
    "language_info": {
      "name": "python"
    },
    "accelerator": "GPU"
  },
  "cells": [
    {
      "cell_type": "code",
      "source": [
        "# clone repository\n",
        "!git clone https://github.com/MuellerNico/DD2360-RayTracing.git\n",
        "%cd DD2360-RayTracing/\n",
        "!ls"
      ],
      "metadata": {
        "id": "YenBj7qB_jvk"
      },
      "execution_count": null,
      "outputs": []
    },
    {
      "cell_type": "code",
      "source": [
        "%cd out\n",
        "!ls"
      ],
      "metadata": {
        "id": "6Ln6h2Xi2TS0"
      },
      "execution_count": null,
      "outputs": []
    },
    {
      "cell_type": "code",
      "source": [
        "!mkdir build\n",
        "!ls"
      ],
      "metadata": {
        "id": "ECVxInoc3CIz"
      },
      "execution_count": null,
      "outputs": []
    },
    {
      "cell_type": "code",
      "source": [
        "%cd build"
      ],
      "metadata": {
        "id": "_dzrb-c52hcH"
      },
      "execution_count": null,
      "outputs": []
    },
    {
      "cell_type": "code",
      "source": [
        "!cmake ../.. -DUSE_OPENGL=OFF"
      ],
      "metadata": {
        "id": "Glp7as-F2VWF"
      },
      "execution_count": null,
      "outputs": []
    },
    {
      "cell_type": "code",
      "source": [
        "!make\n",
        "!ls"
      ],
      "metadata": {
        "id": "f_YhGfqc3lDJ"
      },
      "execution_count": null,
      "outputs": []
    },
    {
      "cell_type": "code",
      "source": [
        "# run and write output to image\n",
        "!./RayTracing > \"img.ppm\"\n",
        "!ls"
      ],
      "metadata": {
        "id": "tfQxxKOdBC6r"
      },
      "execution_count": null,
      "outputs": []
    },
    {
      "cell_type": "code",
      "source": [
        "# profiling\n",
        "!ncu ./RayTracing 1 > \"ncu.txt\" # output mode 1 to disable image output\n",
        "!ls"
      ],
      "metadata": {
        "id": "ikXviqri5ZzY"
      },
      "execution_count": null,
      "outputs": []
    },
    {
      "cell_type": "code",
      "source": [
        "# display image\n",
        "import matplotlib.pyplot as plt\n",
        "import matplotlib.image as mpimg\n",
        "\n",
        "img = mpimg.imread('img.ppm')\n",
        "plt.imshow(img)\n",
        "plt.axis('off')\n",
        "plt.show()"
      ],
      "metadata": {
        "id": "gBaOf3tBEB5e"
      },
      "execution_count": null,
      "outputs": []
    }
  ]
}