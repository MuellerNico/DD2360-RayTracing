{
  "nbformat": 4,
  "nbformat_minor": 0,
  "metadata": {
    "colab": {
      "provenance": [],
      "gpuType": "T4",
      "authorship_tag": "ABX9TyNF+2kibL/QVr/oIfIzkALw"
    },
    "kernelspec": {
      "name": "python3",
      "display_name": "Python 3"
    },
    "language_info": {
      "name": "python"
    },
    "accelerator": "GPU"
  },
  "cells": [
    {
      "cell_type": "code",
      "source": [
        "# clone repository\n",
        "!git clone https://github.com/MuellerNico/DD2360-RayTracing.git\n",
        "%cd DD2360-RayTracing/\n",
        "!ls"
      ],
      "metadata": {
        "id": "YenBj7qB_jvk"
      },
      "execution_count": null,
      "outputs": []
    },
    {
      "cell_type": "code",
      "source": [
        "# compile. make sure to adjust GENCODE_FLAGS for your specific GPU model\n",
        "!make\n",
        "!ls"
      ],
      "metadata": {
        "id": "QSmGUGHaAyLC"
      },
      "execution_count": null,
      "outputs": []
    },
    {
      "cell_type": "code",
      "source": [
        "!./cudart"
      ],
      "metadata": {
        "id": "tfQxxKOdBC6r"
      },
      "execution_count": null,
      "outputs": []
    }
  ]
}