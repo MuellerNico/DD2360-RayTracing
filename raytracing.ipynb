{
  "cells": [
    {
      "cell_type": "code",
      "execution_count": null,
      "metadata": {
        "colab": {
          "base_uri": "https://localhost:8080/"
        },
        "id": "YenBj7qB_jvk",
        "outputId": "6843ef76-e1ed-41f5-b8a4-26aefcb9a7f7"
      },
      "outputs": [],
      "source": [
        "# clone repository\n",
        "! git clone https://github.com/MuellerNico/DD2360-RayTracing.git -b robin-nsys-test\n",
        "%cd DD2360-RayTracing/\n",
        "! ls"
      ]
    },
    {
      "cell_type": "code",
      "execution_count": null,
      "metadata": {
        "colab": {
          "base_uri": "https://localhost:8080/"
        },
        "id": "QSmGUGHaAyLC",
        "outputId": "5ac0eb48-8202-4517-ae93-187d0fb66ded"
      },
      "outputs": [],
      "source": [
        "# compile. make sure to adjust GENCODE_FLAGS for your specific GPU model\n",
        "! make\n",
        "! ls"
      ]
    },
    {
      "cell_type": "code",
      "execution_count": null,
      "metadata": {
        "colab": {
          "base_uri": "https://localhost:8080/"
        },
        "id": "0wDwZPjW5Alb",
        "outputId": "ed108935-5013-45a4-8117-187cfef08fc2"
      },
      "outputs": [],
      "source": [
        "! lscpu\n",
        "! cat /etc/os-release | grep \"VERSION_ID\"\n",
        "! echo \"Machine's architecture: `uname -i`\""
      ]
    },
    {
      "cell_type": "code",
      "execution_count": null,
      "metadata": {
        "colab": {
          "base_uri": "https://localhost:8080/"
        },
        "id": "wao8xGiD5YYY",
        "outputId": "c765f08b-2be6-453f-ad08-25b253cad04e"
      },
      "outputs": [],
      "source": [
        "! wget https://developer.download.nvidia.com/compute/cuda/repos/ubuntu2204/x86_64/nsight-systems-2024.5.1_2024.5.1.113-1_amd64.deb\n",
        "! apt update\n",
        "! apt install ./nsight-systems-2024.5.1_2024.5.1.113-1_amd64.deb\n",
        "! apt --fix-broken install"
      ]
    },
    {
      "cell_type": "code",
      "execution_count": null,
      "metadata": {},
      "outputs": [],
      "source": [
        "# profile using ncu\n",
        "!ncu --config-file off --export \"ncu_%i\" --force-overwrite --set detailed --import-source yes ./cudart 1"
      ]
    },
    {
      "cell_type": "code",
      "execution_count": null,
      "metadata": {
        "colab": {
          "base_uri": "https://localhost:8080/"
        },
        "id": "aa8qcwtR4f2j",
        "outputId": "c8fedc91-eb9b-4759-ed28-e7fb912e4e58"
      },
      "outputs": [],
      "source": [
        "# profile using nsys\n",
        "! make profile\n",
        "! ls"
      ]
    },
    {
      "cell_type": "code",
      "execution_count": null,
      "metadata": {
        "id": "tfQxxKOdBC6r"
      },
      "outputs": [],
      "source": [
        "# run and write output to image\n",
        "! make out.ppm"
      ]
    },
    {
      "cell_type": "code",
      "execution_count": null,
      "metadata": {
        "colab": {
          "base_uri": "https://localhost:8080/",
          "height": 367
        },
        "id": "gBaOf3tBEB5e",
        "outputId": "c561cebe-ca7a-4563-ec4a-6be52dcc0a2b"
      },
      "outputs": [],
      "source": [
        "# display image\n",
        "import matplotlib.pyplot as plt\n",
        "import matplotlib.image as mpimg\n",
        "\n",
        "img = mpimg.imread('out.ppm')\n",
        "plt.imshow(img)\n",
        "plt.axis('off')\n",
        "plt.show()"
      ]
    }
  ],
  "metadata": {
    "accelerator": "GPU",
    "colab": {
      "gpuType": "T4",
      "provenance": [],
      "toc_visible": true
    },
    "kernelspec": {
      "display_name": "Python 3",
      "name": "python3"
    },
    "language_info": {
      "name": "python"
    }
  },
  "nbformat": 4,
  "nbformat_minor": 0
}
