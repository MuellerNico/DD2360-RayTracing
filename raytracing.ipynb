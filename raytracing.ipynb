{
  "cells": [
    {
      "cell_type": "code",
      "execution_count": null,
      "metadata": {
        "id": "YenBj7qB_jvk"
      },
      "outputs": [],
      "source": [
        "# clone repository\n",
        "!git clone https://github.com/MuellerNico/DD2360-RayTracing.git\n",
        "%cd DD2360-RayTracing/"
      ]
    },
    {
      "cell_type": "code",
      "execution_count": null,
      "metadata": {},
      "outputs": [],
      "source": [
        "# build\n",
        "%cd out\n",
        "!mkdir build\n",
        "%cd build\n",
        "!cmake ../.. -DUSE_OPENGL=OFF\n",
        "!ls"
      ]
    },
    {
      "cell_type": "code",
      "execution_count": null,
      "metadata": {
        "id": "f_YhGfqc3lDJ"
      },
      "outputs": [],
      "source": [
        "# compile\n",
        "!make\n",
        "!ls"
      ]
    },
    {
      "cell_type": "code",
      "execution_count": null,
      "metadata": {
        "id": "tfQxxKOdBC6r"
      },
      "outputs": [],
      "source": [
        "# run and write output to image\n",
        "!./RayTracing > \"img.ppm\"\n",
        "!ls"
      ]
    },
    {
      "cell_type": "code",
      "execution_count": null,
      "metadata": {
        "id": "gBaOf3tBEB5e"
      },
      "outputs": [],
      "source": [
        "# display image\n",
        "import matplotlib.pyplot as plt\n",
        "import matplotlib.image as mpimg\n",
        "\n",
        "img = mpimg.imread('img.ppm')\n",
        "plt.imshow(img)\n",
        "plt.axis('off')\n",
        "plt.show()\n",
        "\n",
        "# Note: if the image can't be displayed, try running with output mode 1 or 3, \n",
        "# as there might be error messages in stdout mixed with the ppm image data."
      ]
    },
    {
      "cell_type": "code",
      "execution_count": null,
      "metadata": {
        "id": "ikXviqri5ZzY"
      },
      "outputs": [],
      "source": [
        "# profiling\n",
        "!ncu ./RayTracing 1 > \"ncu.txt\" # output mode 1 to disable image output\n",
        "!ls"
      ]
    }
  ],
  "metadata": {
    "accelerator": "GPU",
    "colab": {
      "gpuType": "T4",
      "provenance": []
    },
    "kernelspec": {
      "display_name": "Python 3",
      "name": "python3"
    },
    "language_info": {
      "name": "python"
    }
  },
  "nbformat": 4,
  "nbformat_minor": 0
}
